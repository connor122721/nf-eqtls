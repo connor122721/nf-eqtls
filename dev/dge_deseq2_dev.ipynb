{
 "cells": [
  {
   "cell_type": "code",
   "execution_count": null,
   "id": "2fbbadf1-656a-4ba5-9e85-08b68f5cd535",
   "metadata": {
    "tags": []
   },
   "outputs": [],
   "source": [
    "#!/usr/bin/env python\n",
    "# coding: utf-8\n",
    "\n",
    "\"\"\"\n",
    "By: Connor S. Murray\n",
    "  - Performs differential gene expression on raw RNA-seq data with DESeq2!\n",
    "\"\"\"\n",
    "# Load Libraries\n",
    "import argparse\n",
    "import sys\n",
    "import os\n",
    "import math\n",
    "import pandas as pd\n",
    "import numpy as np\n",
    "import re\n",
    "from pydeseq2.dds import DeseqDataSet\n",
    "from pydeseq2.default_inference import DefaultInference\n",
    "from pydeseq2.ds import DeseqStats\n",
    "from pydeseq2.utils import load_example_data\n",
    "import matplotlib.pyplot as plt\n",
    "import seaborn as sns\n",
    "\n",
    "# Arguments from command line\n",
    "def parse_arguments():\n",
    "    parser = argparse.ArgumentParser(description=\"Differential gene expression analysis with DEseq2.\")\n",
    "    parser.add_argument(\"--metadata\", required=False, \n",
    "                        default=\"/standard/vol185/cphg_Manichaikul/users/csm6hg/metadata/metadata_10_17_2024_CSM.txt\",\n",
    "                        help=\"Path to metadata file (must include SAMPLE_ID_TOR, Affected_NF).\")\n",
    "    parser.add_argument(\"--gene_counts\", required=False, \n",
    "                        default=\"/standard/vol185/TOPMed/TOPCHef/82214/topmed-dcc/exchange/phs002038_TOPMed_TOPCHeF/Omics/RNASeq/release3/TOPMed_Taylor_P4.RNASeQCv2.3.6_gene_reads.gct.gz\",\n",
    "                        help=\"Raw gene counts file\")\n",
    "    parser.add_argument(\"--gtf\", required=False, \n",
    "                        default=\"/standard/vol185/cphg_Manichaikul/users/csm6hg/genome_files/gencode.v34.GRCh38.ERCC.genes.collapsed.gtf\", \n",
    "                        help=\"Path to GTF bed file (e.g., gencode.v34...).\")\n",
    "    return parser.parse_args()\n",
    "\n",
    "# TESTING \n",
    "#metadata=\"/standard/vol185/cphg_Manichaikul/users/csm6hg/metadata/metadata_10_17_2024_CSM.txt\";gene_counts=\"/standard/vol185/TOPMed/TOPCHef/82214/topmed-dcc/exchange/phs002038_TOPMed_TOPCHeF/Omics/RNASeq/release3/TOPMed_Taylor_P4.RNASeQCv2.3.6_gene_reads.gct.gz\";gtf=\"/standard/vol185/cphg_Manichaikul/users/csm6hg/genome_files/gencode.v34.GRCh38.ERCC.genes.collapsed.gtf\"\n",
    "\n",
    "# Function to extract gene_id from the attributes field using regex\n",
    "def extract_gene_info(attr_str):\n",
    "    m1 = re.search(r'gene_id \"([^\"]+)\"', attr_str)\n",
    "    m2 = re.search(r'gene_name \"([^\"]+)\"', attr_str)\n",
    "    gene_id = m1.group(1) if m1 else None\n",
    "    gene_name = m2.group(1) if m2 else None\n",
    "    # Remove trailing version information: a dot followed by one or more digits at the end\n",
    "    gene = re.sub(r\"\\.[0-9]+$\", \"\", gene_id) if gene_id else None\n",
    "    return pd.Series([gene_id, gene, gene_name], index=[\"gene_id\", \"gene\", \"common_gene\"])\n",
    "\n",
    "# Define the column names for a standard GTF file\n",
    "gtf_columns = [\"chrom\", \"source\", \"feature\", \"start\", \"end\", \n",
    "               \"score\", \"strand\", \"frame\", \"attribute\"]\n",
    "\n",
    "# Read the GTF file\n",
    "df = pd.read_csv(gtf, sep=\"\\t\", comment=\"#\", header=None, names=gtf_columns)\n",
    "\n",
    "# Optionally, filter the DataFrame to only include gene-level annotations\n",
    "genes_df = df[df[\"feature\"] == \"gene\"].copy()\n",
    "\n",
    "# Extract gene_id from the attribute column\n",
    "genes_df[[\"gene_id\", \"gene\",\"common_gene\"]] = genes_df[\"attribute\"].apply(extract_gene_info)\n",
    "\n",
    "# Select only the columns of interest\n",
    "result = genes_df[[\"chrom\", \"start\", \"end\", \"gene_id\", \"gene\", \"common_gene\"]]\n",
    "print(result.head())\n",
    "\n",
    "# Read in metadata\n",
    "meta = pd.read_csv(metadata, sep=\"\\t\", index_col=\"SAMPLE_ID_TOR\")\n",
    "print(meta.head())\n",
    "\n",
    "if \"TOR238072\" in meta.index:\n",
    "        meta.drop(\"TOR238072\", inplace=True)"
   ]
  },
  {
   "cell_type": "code",
   "execution_count": null,
   "id": "50c7f82d-e6d5-49cc-bcd1-9998ac761c32",
   "metadata": {
    "tags": []
   },
   "outputs": [],
   "source": [
    "# Read in raw gene count matrix\n",
    "gene_count = pd.read_table(\n",
    "    gene_counts,\n",
    "    compression=\"gzip\",\n",
    "    skiprows=2,\n",
    "    index_col=\"Name\")\n",
    "print(f\"Original gene_count shape: {gene_count.shape}\")\n",
    "\n",
    "# Ensure columns are string\n",
    "gene_count.columns = gene_count.columns.astype(str)\n",
    "\n",
    "# Align with meta\n",
    "common_samples = meta.index.intersection(gene_count.columns)\n",
    "print(f\"Number of common samples: {len(common_samples)}\")\n",
    "\n",
    "gene_count = gene_count.loc[:, common_samples]\n",
    "print(f\"Filt. gene_count shape: {gene_count.shape}\")\n",
    "print(gene_count.head())\n",
    "\n",
    "# Extract pre-filtered gene list\n",
    "genes_list_filt = pd.read_csv(\"../output/rna/norm_medrat.tsv\", sep=\"\\t\")\n",
    "genes_list = genes_list_filt.filter(like='ENSG').columns\n",
    "gene_count = gene_count[gene_count.index.isin(genes_list)]\n",
    "print(f\"Filt. gene_count shape: {gene_count.shape}\")\n",
    "\n",
    "# Extract pre-filtered sample list\n",
    "samples = pd.read_csv(\"../output/eqtl/topchef_samples_1_15_25.txt\", header=None, names=[\"SAMPLE_ID_NWD\"])"
   ]
  },
  {
   "cell_type": "code",
   "execution_count": null,
   "id": "0ee04df2-8dc8-4b11-aeb3-926afd8895eb",
   "metadata": {
    "tags": []
   },
   "outputs": [],
   "source": [
    "gene_countsi = gene_count.T\n",
    "meta_re = meta.rename_axis('Name')\n",
    "\n",
    "# Convert the SAMPLE_ID_NWD column to a list\n",
    "sample_ids = samples[\"SAMPLE_ID_NWD\"].tolist()\n",
    "\n",
    "# Filter metadata rows where SAMPLE_ID_NWD is in the sample_ids list\n",
    "meta_re = meta_re[meta_re[\"SAMPLE_ID_NWD\"].isin(sample_ids)]\n",
    "meta_re = meta_re[meta_re[\"diagnosis_simple\"].isin([\"IDCM\", \"Non-Failing\"])] # Restrict to just DCM vs Control\n",
    "design_columns = ['diagnosis_simple', 'Age_at_collection']\n",
    "meta_re = meta_re.dropna(subset=design_columns)\n",
    "gene_countsii = gene_countsi[gene_countsi.index.isin(meta_re.index)]\n",
    "\n",
    "print(f\"Gene count matrix for DESeq2: {gene_countsii.shape}\")\n",
    "\n",
    "# Make DDS object\n",
    "inference = DefaultInference(n_cpus=4)\n",
    "dds = DeseqDataSet(counts=gene_countsii, \n",
    "                   metadata=meta_re, \n",
    "                   design_factors=['diagnosis_simple', 'Age_at_collection', 'Gender'],\n",
    "                   refit_cooks=True,\n",
    "                   inference=inference,)\n",
    "\n",
    "# Normalization\n",
    "dds.fit_size_factors()\n",
    "norm_counts = pd.DataFrame(dds.layers[\"normed_counts\"])\n",
    "norm_counts.index = gene_countsii.index\n",
    "norm_counts.columns = gene_countsii.columns\n",
    "print(f\"Normalized count matrix shape: {norm_counts.shape}\")"
   ]
  },
  {
   "cell_type": "code",
   "execution_count": null,
   "id": "f2f05680-312c-4571-9859-6c85021d1583",
   "metadata": {
    "tags": []
   },
   "outputs": [],
   "source": [
    "# Run differential expression analysis (this takes a couple of mins)\n",
    "dds.deseq2()"
   ]
  },
  {
   "cell_type": "code",
   "execution_count": null,
   "id": "16177b4b-a63b-4cf2-b9a3-785dc3747fb0",
   "metadata": {
    "tags": []
   },
   "outputs": [],
   "source": [
    "print(dds)\n",
    "#print(meta[\"diagnosis_simple\"].value_counts())\n",
    "\n",
    "# Contrast groups \n",
    "stat_dcm = DeseqStats(dds, contrast = ('diagnosis-simple', 'IDCM', 'Non-Failing'), alpha=0.05)\n",
    "#stat_icm = DeseqStats(dds, contrast = ('diagnosis-simple', 'ICM', 'Non-Failing'), alpha=0.05)\n",
    "stat_dcm.summary()"
   ]
  },
  {
   "cell_type": "code",
   "execution_count": null,
   "id": "c31fc5b7-4d2d-4e3c-8609-4d66724fa565",
   "metadata": {
    "tags": []
   },
   "outputs": [],
   "source": [
    "import scanpy as sc\n",
    "sc.tl.pca(dds)\n",
    "sc.pl.pca(dds, \n",
    "          groups=[\"Non-Failing\", \"IDCM\"], \n",
    "          color = 'diagnosis-simple', \n",
    "          ncols=2,\n",
    "          size = 200, \n",
    "          components=['1,2', '2,3', '3,4', '4,5'])"
   ]
  },
  {
   "cell_type": "code",
   "execution_count": null,
   "id": "a1a82746-1119-4237-a0e6-91c53c038adf",
   "metadata": {
    "tags": []
   },
   "outputs": [],
   "source": [
    "# Extract significant genes\n",
    "res = stat_dcm.results_df\n",
    "res = res.merge(result, left_index=True, right_on=\"gene_id\", how='left')\n",
    "res = res[res.baseMean >= 10]\n",
    "res.to_csv('/standard/dard/vol185/cphg_Manichaikul/users/csm6hg/nextflow_dna/output/dge/sig_dge_DCM.csv', index=True)\n",
    "sigs = res[(res.padj < 0.05) & (abs(res.log2FoldChange) > math.log2(1.5))]\n",
    "print(sigs.head())\n",
    "\n",
    "# Plot Volcano plot\n",
    "plt.figure(figsize=(10, 6))\n",
    "plt.scatter(res['log2FoldChange'], -np.log10(res['pvalue']), c='grey', alpha=0.5)\n",
    "plt.axhline(-np.log10(0.05), color='red', linestyle='--')\n",
    "plt.axvline(1, color='blue', linestyle='--')\n",
    "plt.axvline(-1, color='blue', linestyle='--')\n",
    "plt.xlabel('Log2 fold change')\n",
    "plt.ylabel('-Log10 p-value')\n",
    "plt.title('Volcano Plot')\n",
    "plt.show()"
   ]
  }
 ],
 "metadata": {
  "kernelspec": {
   "display_name": "Python 3",
   "language": "python",
   "name": "python3"
  },
  "language_info": {
   "codemirror_mode": {
    "name": "ipython",
    "version": 3
   },
   "file_extension": ".py",
   "mimetype": "text/x-python",
   "name": "python",
   "nbconvert_exporter": "python",
   "pygments_lexer": "ipython3",
   "version": "3.11.4"
  }
 },
 "nbformat": 4,
 "nbformat_minor": 5
}
